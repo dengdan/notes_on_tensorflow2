{
 "cells": [
  {
   "cell_type": "markdown",
   "metadata": {},
   "source": [
    "Tensorflow 2.0已经正式发布， 正在学习如何使用。 因为之前用过tensorflow1.xx, 学习内容主要分为以下几个部分：\n",
    "* 为何要学习使用2.0（最后再写）\n",
    "* 如何加载数据\n",
    "* 如何创建模型\n",
    "* 如何训练和测试模型\n",
    "* 如何使用tensorboard\n",
    "* 如何保存和加载模型\n",
    "* 如何使用多GPU训练"
   ]
  },
  {
   "cell_type": "code",
   "execution_count": null,
   "metadata": {},
   "outputs": [],
   "source": []
  }
 ],
 "metadata": {
  "kernelspec": {
   "display_name": "tf20",
   "language": "python",
   "name": "tf20"
  },
  "language_info": {
   "codemirror_mode": {
    "name": "ipython",
    "version": 3
   },
   "file_extension": ".py",
   "mimetype": "text/x-python",
   "name": "python",
   "nbconvert_exporter": "python",
   "pygments_lexer": "ipython3",
   "version": "3.7.4"
  }
 },
 "nbformat": 4,
 "nbformat_minor": 2
}
