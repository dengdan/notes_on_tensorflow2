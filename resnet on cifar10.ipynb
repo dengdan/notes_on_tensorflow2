{
 "cells": [
  {
   "cell_type": "code",
   "execution_count": 3,
   "metadata": {},
   "outputs": [],
   "source": [
    "import tensorflow as tf\n",
    "import tensorflow.keras as keras\n",
    "import cifar_input"
   ]
  },
  {
   "cell_type": "code",
   "execution_count": 7,
   "metadata": {},
   "outputs": [],
   "source": [
    "input_size = 32\n",
    "keras_mobilenet_v2 = keras.applications.MobileNetV2(\n",
    "    input_shape=(input_size, input_size, 3), include_top=False)\n",
    "model = tf.keras.Sequential([\n",
    "    keras_mobilenet_v2,\n",
    "    tf.keras.layers.Flatten(),\n",
    "    tf.keras.layers.Dense(10, activation='softmax')\n",
    "])"
   ]
  },
  {
   "cell_type": "code",
   "execution_count": 5,
   "metadata": {},
   "outputs": [
    {
     "name": "stdout",
     "output_type": "stream",
     "text": [
      "WARNING:tensorflow:From /Users/dengdan/anaconda3/envs/tf20/lib/python3.7/site-packages/tensorflow_core/python/ops/image_ops_impl.py:1518: div (from tensorflow.python.ops.math_ops) is deprecated and will be removed in a future version.\n",
      "Instructions for updating:\n",
      "Deprecated in favor of operator or tf.math.divide.\n"
     ]
    }
   ],
   "source": [
    "import cifar_input\n",
    "input_size = 32\n",
    "train_batch_size = 100\n",
    "eval_batch_size = 100\n",
    "ds_train = cifar_input.get_dataset(is_training = True, input_size = input_size, batch_size = train_batch_size)\n",
    "ds_eval = cifar_input.get_dataset(is_training = False, input_size = input_size, batch_size = eval_batch_size)"
   ]
  },
  {
   "cell_type": "code",
   "execution_count": 8,
   "metadata": {},
   "outputs": [
    {
     "name": "stdout",
     "output_type": "stream",
     "text": [
      "Model: \"sequential_1\"\n",
      "_________________________________________________________________\n",
      "Layer (type)                 Output Shape              Param #   \n",
      "=================================================================\n",
      "mobilenetv2_1.00_224 (Model) (None, 1, 1, 1280)        2257984   \n",
      "_________________________________________________________________\n",
      "flatten_1 (Flatten)          (None, 1280)              0         \n",
      "_________________________________________________________________\n",
      "dense_1 (Dense)              (None, 10)                12810     \n",
      "=================================================================\n",
      "Total params: 2,270,794\n",
      "Trainable params: 2,236,682\n",
      "Non-trainable params: 34,112\n",
      "_________________________________________________________________\n",
      "None\n"
     ]
    }
   ],
   "source": [
    "print(model.summary())"
   ]
  },
  {
   "cell_type": "code",
   "execution_count": 9,
   "metadata": {},
   "outputs": [],
   "source": [
    "model.compile(loss=\"sparse_categorical_crossentropy\",\n",
    "              optimizer=\"sgd\",\n",
    "              metrics=[\"accuracy\"])"
   ]
  },
  {
   "cell_type": "code",
   "execution_count": null,
   "metadata": {},
   "outputs": [
    {
     "name": "stdout",
     "output_type": "stream",
     "text": [
      "Epoch 1/30\n",
      "500/500 [==============================] - 191s 381ms/step - loss: 1.6272 - accuracy: 0.4331 - val_loss: 0.0000e+00 - val_accuracy: 0.0000e+00\n",
      "Epoch 2/30\n",
      "500/500 [==============================] - 172s 344ms/step - loss: 1.1224 - accuracy: 0.6136 - val_loss: 2.2586 - val_accuracy: 0.1929\n",
      "Epoch 3/30\n",
      "500/500 [==============================] - 168s 336ms/step - loss: 0.9452 - accuracy: 0.6749 - val_loss: 2.1784 - val_accuracy: 0.3697\n",
      "Epoch 4/30\n",
      "500/500 [==============================] - 166s 332ms/step - loss: 0.8506 - accuracy: 0.7051 - val_loss: 1.9511 - val_accuracy: 0.5159\n",
      "Epoch 5/30\n",
      "500/500 [==============================] - 164s 327ms/step - loss: 0.7851 - accuracy: 0.7275 - val_loss: 1.6764 - val_accuracy: 0.6392\n",
      "Epoch 6/30\n",
      "500/500 [==============================] - 164s 328ms/step - loss: 0.7316 - accuracy: 0.7476 - val_loss: 1.4701 - val_accuracy: 0.6634\n",
      "Epoch 7/30\n",
      "500/500 [==============================] - 163s 327ms/step - loss: 0.6942 - accuracy: 0.7570 - val_loss: 1.1390 - val_accuracy: 0.7139\n",
      "Epoch 8/30\n",
      "500/500 [==============================] - 163s 326ms/step - loss: 0.6613 - accuracy: 0.7693 - val_loss: 0.8983 - val_accuracy: 0.7432\n",
      "Epoch 9/30\n",
      "500/500 [==============================] - 166s 333ms/step - loss: 0.6299 - accuracy: 0.7795 - val_loss: 0.7876 - val_accuracy: 0.7538\n",
      "Epoch 10/30\n",
      " 65/100 [==================>...........] - ETA: 11s - loss: 0.5930 - accuracy: 0.7948"
     ]
    }
   ],
   "source": [
    "model.fit(x = ds_train, epochs=30, validation_data = ds_eval)"
   ]
  },
  {
   "cell_type": "code",
   "execution_count": null,
   "metadata": {},
   "outputs": [],
   "source": []
  }
 ],
 "metadata": {
  "kernelspec": {
   "display_name": "tf20",
   "language": "python",
   "name": "tf20"
  },
  "language_info": {
   "codemirror_mode": {
    "name": "ipython",
    "version": 3
   },
   "file_extension": ".py",
   "mimetype": "text/x-python",
   "name": "python",
   "nbconvert_exporter": "python",
   "pygments_lexer": "ipython3",
   "version": "3.7.4"
  }
 },
 "nbformat": 4,
 "nbformat_minor": 2
}
