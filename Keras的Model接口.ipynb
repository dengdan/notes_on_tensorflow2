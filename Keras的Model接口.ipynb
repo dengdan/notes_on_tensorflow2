{
 "cells": [
  {
   "cell_type": "markdown",
   "metadata": {},
   "source": [
    "在keras的模型接口设计中， 最基本的基类是`keras.layers.Layer`。 keras用通过Layer接口实现了常见了神经网络操作， 例如`Convolution`, `BatchNorm`, `DropOut`等。  `Layer`也有自己的基类`tensorflow.python.module.Module`， \n",
    "`Module`是`tf.Variable`的容器类， 任何作为其属性(存在于其__dict__中)的`Variable`或`Module`都可以通过它的`variables`, `trainable_variables` 或 `submodules`属性取出。实现细节在它的`_flatten`方法里， 主要通过遍历对象的`__dict__`实现。\n",
    "\n",
    "Module：Variable的容器\n",
    "Layer：keras用通过Layer接口实现了常见了神经网络操作， 例如`Convolution`, `BatchNorm`, `DropOut`等。负责Variable的创建。\n",
    "Network: Layer的组合， Model的拓扑结构\n",
    "Model：在Network之上加入training和inference的相关方法"
   ]
  }
 ],
 "metadata": {
  "kernelspec": {
   "display_name": "tf20",
   "language": "python",
   "name": "tf20"
  },
  "language_info": {
   "codemirror_mode": {
    "name": "ipython",
    "version": 3
   },
   "file_extension": ".py",
   "mimetype": "text/x-python",
   "name": "python",
   "nbconvert_exporter": "python",
   "pygments_lexer": "ipython3",
   "version": "3.7.4"
  }
 },
 "nbformat": 4,
 "nbformat_minor": 2
}
